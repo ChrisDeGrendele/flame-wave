{
 "cells": [
  {
   "cell_type": "markdown",
   "metadata": {},
   "source": [
    "We track the flame by defining the 'front' as the highest value of nuclear energy generation \n",
    "(H_nuc). (Schwab et. at al 2020 (arXiv:2001.0773) https://arxiv.org/abs/2001.07733 )"
   ]
  },
  {
   "cell_type": "code",
   "execution_count": 10,
   "metadata": {},
   "outputs": [],
   "source": [
    "import yt\n",
    "from yt.funcs import mylog\n",
    "mylog.setLevel(40) # Gets rid of all of the yt info text, only errors.\n",
    "import glob\n",
    "import numpy as np\n",
    "import matplotlib.pyplot as plt\n",
    "from matplotlib.ticker import StrMethodFormatter\n",
    "import os\n",
    "from IPython.display import Video"
   ]
  },
  {
   "cell_type": "code",
   "execution_count": 11,
   "metadata": {},
   "outputs": [],
   "source": [
    "def make_movie(file_list, save_dir='tmp/', var='rho', movie_name=\"movie.mp4\"):\n",
    "    i = 1\n",
    "    for file in file_list:\n",
    "        ds = yt.load(file)\n",
    "        sl = yt.SlicePlot(ds,2,var)\n",
    "        sl.save(\"movie_imag{}.png\".format(str(i).zfill(4)))\n",
    "        i+=1\n",
    "    os.system(\"ffmpeg -r 60 -pattern_type glob -i 'movie_imag*.png' -vcodec mpeg4 -y {}\".format(movie_name))\n",
    "    os.system(\"rm movie_imag*\")\n",
    "    Video(\"movie.mp4\")\n",
    "    \n",
    "def flame_speed(file_list):\n",
    "    Hnucs = []\n",
    "    xs = []\n",
    "    ys = []\n",
    "    zs = []\n",
    "    ts = []\n",
    "    for file in file_list:\n",
    "        ds = yt.load(file)\n",
    "        ad = ds.all_data()\n",
    "        #sl = yt.SlicePlot(ds,2,'Hnuc')\n",
    "        #profile_2d = yt.create_profile(ad, ['x', 'y'], 'Hnuc', weight_field=None)\n",
    "        #Save Data:\n",
    "        x,y,z = ad.argmax(\"Hnuc\")\n",
    "        Hnucs.append(ad.quantities.extrema(\"Hnuc\"))\n",
    "        xs.append(x)\n",
    "        ys.append(y)\n",
    "        zs.append(z)\n",
    "        ts.append(ds.current_time)\n",
    "        \n",
    "    #The below \"r\" where we track Hnuc, can look very bumpy, because Hnuc, could be \n",
    "    #in the same y location (~ distance traveled in a long skinny domain), but could\n",
    "    #be moving around in the x direction. So - Lets just take the y component. Z should\n",
    "    #always be zero in 2D anyways. \n",
    "    #r = [np.sqrt(xs[i]**2 + ys[i]**2 + zs[i]**2) for i in range(len(xs))]\n",
    "    r = ys\n",
    "    v = np.diff(r)/(ts[1]-ts[0])\n",
    "    return ts, r, v\n",
    "    \n",
    "    \n",
    "def flame_plot(ts,r,v):    \n",
    "    plt.plot(ts,r)\n",
    "    plt.gca().ticklabel_format(axis='both', style='sci', scilimits=(-1,1))\n",
    "    plt.xlabel(\"Time [Seconds]\")\n",
    "    plt.ylabel(\"Distance Traveled by Flame [cm]\")\n",
    "    plt.show()\n",
    "    \n",
    "    plt.plot(ts[1:],v)\n",
    "    plt.xlabel(\"Time [Seconds]\")\n",
    "    plt.ylabel(\"Velocity [cm/sec]\")\n",
    "    plt.gca().ticklabel_format(axis='both', style='sci', scilimits=(-1,1))\n",
    "\n",
    "def compare_flame_speed(file_list1, file_list2):\n",
    "    '''for comparing two file_list's flamespeeds'''\n",
    "    "
   ]
  },
  {
   "cell_type": "code",
   "execution_count": 12,
   "metadata": {},
   "outputs": [
    {
     "data": {
      "text/plain": [
       "'\\nflames = np.sort(glob.glob(\"A path *\"))\\nmake_movie(flames, movie_name=\\'strang.mp4\\', var=\"Hnuc\" )\\nVideo(\"strang.mp4\")\\n'"
      ]
     },
     "execution_count": 12,
     "metadata": {},
     "output_type": "execute_result"
    }
   ],
   "source": [
    "'''\n",
    "flames = np.sort(glob.glob(\"A path *\"))\n",
    "make_movie(flames, movie_name='strang.mp4', var=\"Hnuc\" )\n",
    "Video(\"strang.mp4\")\n",
    "'''"
   ]
  },
  {
   "cell_type": "code",
   "execution_count": 13,
   "metadata": {},
   "outputs": [],
   "source": [
    "#Strang:\n",
    "lvl0_strang = np.sort(glob.glob(\"data/flame_convergence/lvl0_flame*\"))[:-3] #cut off the three initial plots\n",
    "lvl1_strang = np.sort(glob.glob(\"data/flame_convergence/lvl1_flame*\"))[:-3]\n",
    "lvl2_strang = np.sort(glob.glob(\"data/flame_convergence/lvl2_flame*\"))[:-3]\n",
    "lvl3_strang = np.sort(glob.glob(\"data/flame_convergence/lvl3_flame*\"))[:-4] #for some reason the last plot file has trouble\n",
    "\n",
    "#SDC \n",
    "lvl0_sdc = np.sort(glob.glob(\"data/flame_convergence_sdc/lvl0_sdc_flame_*\"))[:-3]"
   ]
  },
  {
   "cell_type": "markdown",
   "metadata": {},
   "source": [
    "# Convergence -  Strang integration\n"
   ]
  },
  {
   "cell_type": "code",
   "execution_count": 21,
   "metadata": {},
   "outputs": [
    {
     "name": "stdout",
     "output_type": "stream",
     "text": [
      "1 AMR Level, speed =  95793.24367283349 cm/s\n",
      "2 AMR Levels, speed =  95776.11510202265 cm/s\n",
      "3 AMR Levels, speed =  95832.56655976942 cm/s\n",
      "4 AMR Levels, speed =  91902.93304829033 cm/s\n"
     ]
    },
    {
     "data": {
      "image/png": "[encoded data removed]",
      "text/plain": [
       "<Figure size 432x288 with 1 Axes>"
      ]
     },
     "metadata": {
      "needs_background": "light"
     },
     "output_type": "display_data"
    }
   ],
   "source": [
    "t, r, v = flame_speed(lvl0_strang)\n",
    "plt.plot(t,r, label='amr.max_level=0', linewidth=9.0)\n",
    "a, b = np.polyfit(t,r,1)\n",
    "print(\"1 AMR Level,  speed = \", a, \"cm/s\")\n",
    "\n",
    "t, r, v = flame_speed(lvl1_strang)\n",
    "plt.plot(t,r, label='amr.max_level=1', linewidth=6.0)\n",
    "a, b = np.polyfit(t,r,1)\n",
    "print(\"2 AMR Levels, speed = \", a, \"cm/s\")\n",
    "\n",
    "t, r, v = flame_speed(lvl2_strang)\n",
    "plt.plot(t,r, label='amr.max_level=2', linewidth=3.0)\n",
    "a, b = np.polyfit(t,r,1)\n",
    "print(\"3 AMR Levels, speed = \", a, \"cm/s\")\n",
    "\n",
    "t, r, v = flame_speed(lvl3_strang)\n",
    "plt.plot(t,r, label='amr.max_level=3', linewidth=1.0)\n",
    "a, b = np.polyfit(t,r,1)\n",
    "print(\"4 AMR Levels, speed = \", a, \"cm/s\")\n",
    "\n",
    "plt.gca().ticklabel_format(axis='both', style='sci', scilimits=(-1,1))\n",
    "plt.xlabel(\"Time [Seconds]\")\n",
    "plt.ylabel(\"Distance Traveled by Flame [cm]\")\n",
    "plt.legend()\n",
    "plt.show()"
   ]
  },
  {
   "cell_type": "code",
   "execution_count": 34,
   "metadata": {},
   "outputs": [
    {
     "data": {
      "image/png": "[encoded data removed]",
      "text/plain": [
       "<Figure size 432x288 with 1 Axes>"
      ]
     },
     "metadata": {
      "needs_background": "light"
     },
     "output_type": "display_data"
    }
   ],
   "source": [
    "t, r, v = flame_speed(lvl0_strang)\n",
    "plt.plot(t,r, label='Strang 1 level')\n",
    "t, r, v = flame_speed(lvl0_sdc)\n",
    "plt.plot(t,r, label='Sdc 1 level')\n",
    "plt.gca().ticklabel_format(axis='both', style='sci', scilimits=(-1,1))\n",
    "plt.xlabel(\"Time [Seconds]\")\n",
    "plt.ylabel(\"Distance Traveled by Flame [cm]\")\n",
    "plt.legend()\n",
    "plt.show()"
   ]
  },
  {
   "cell_type": "code",
   "execution_count": 36,
   "metadata": {},
   "outputs": [
    {
     "data": {
      "text/plain": [
       "1.7903741049827826e-05 code_time"
      ]
     },
     "execution_count": 36,
     "metadata": {},
     "output_type": "execute_result"
    }
   ],
   "source": [
    "yt.load(lvl0_strang[-1]).current_time"
   ]
  },
  {
   "cell_type": "code",
   "execution_count": 18,
   "metadata": {},
   "outputs": [],
   "source": [
    "x = [1,2,3,4]\n",
    "y = [1,2,3,4]\n",
    "a, b = np.polyfit(x,y,1)"
   ]
  },
  {
   "cell_type": "code",
   "execution_count": 19,
   "metadata": {},
   "outputs": [
    {
     "data": {
      "text/plain": [
       "1.0000000000000002"
      ]
     },
     "execution_count": 19,
     "metadata": {},
     "output_type": "execute_result"
    }
   ],
   "source": [
    "a"
   ]
  },
  {
   "cell_type": "code",
   "execution_count": 20,
   "metadata": {},
   "outputs": [
    {
     "data": {
      "text/plain": [
       "-1.066817165546361e-15"
      ]
     },
     "execution_count": 20,
     "metadata": {},
     "output_type": "execute_result"
    }
   ],
   "source": [
    "b"
   ]
  },
  {
   "cell_type": "code",
   "execution_count": null,
   "metadata": {},
   "outputs": [],
   "source": []
  }
 ],
 "metadata": {
  "kernelspec": {
   "display_name": "Python 3",
   "language": "python",
   "name": "python3"
  },
  "language_info": {
   "codemirror_mode": {
    "name": "ipython",
    "version": 3
   },
   "file_extension": ".py",
   "mimetype": "text/x-python",
   "name": "python",
   "nbconvert_exporter": "python",
   "pygments_lexer": "ipython3",
   "version": "3.8.0"
  }
 },
 "nbformat": 4,
 "nbformat_minor": 2
}
