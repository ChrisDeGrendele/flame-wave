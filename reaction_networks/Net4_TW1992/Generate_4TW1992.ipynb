{
 "cells": [
  {
   "cell_type": "code",
   "execution_count": 3,
   "metadata": {},
   "outputs": [],
   "source": [
    "%matplotlib inline\n",
    "import pynucastro as pyna\n",
    "import numpy as np"
   ]
  },
  {
   "cell_type": "markdown",
   "metadata": {},
   "source": [
    "http://articles.adsabs.harvard.edu/pdf/1992ApJ...396..649T\n",
    "Table 1 Net 4 N = 130\n",
    "\n"
   ]
  },
  {
   "cell_type": "code",
   "execution_count": 4,
   "metadata": {},
   "outputs": [],
   "source": [
    "Nuclei = { \n",
    "    \"H\" : [1,3],\n",
    "    \"He\" : [3,4],\n",
    "    \"C\" : [12,12],\n",
    "    \"N\" : [14,15],\n",
    "    \"O\" : [16, 18],\n",
    "    \"F\" : [19, 20], \n",
    "    \"Ne\" : [19,21],\n",
    "    \"Na\" : [22, 24],\n",
    "    \"Mg\" : [23, 26],\n",
    "    \"Al\" : [26, 28],\n",
    "    \"Si\" : [27, 30],\n",
    "    \"P\"  : [30, 32],\n",
    "    \"S\"  : [31, 34],\n",
    "    \"Cl\" : [35, 37], \n",
    "    \"Ar\" : [36, 38],\n",
    "    \"K\"  : [39, 41],\n",
    "    \"Ca\" : [40, 44],\n",
    "    \"Sc\" : [43, 45], \n",
    "    \"Ti\" : [44, 48],\n",
    "    \"V\"  : [47, 49], \n",
    "    \"Cr\" : [48, 52],\n",
    "    \"Mn\" : [51, 54],\n",
    "    \"Fe\" : [52, 56],\n",
    "    \"Co\" : [55, 57],\n",
    "    \"Ni\" : [56, 58]    \n",
    "}\n",
    "All_Nuclei = []\n",
    "for Nuc, Num in Nuclei.items():\n",
    "    for i in range(Num[0], Num[1]+1):\n",
    "        All_Nuclei.append(Nuc + str(i))\n",
    "All_Nuclei.append(\"n\") #neutron\n",
    "assert len(All_Nuclei) == 83\n",
    "\n",
    "library_file = '../results07070315'\n",
    "mylibrary = pyna.rates.Library(library_file)\n",
    "\n",
    "Net4_TW1992_lib = mylibrary.linking_nuclei(All_Nuclei, with_reverse=False)\n",
    "Net4_TW1992 = pyna.networks.StarKillerNetwork(libraries=Net4_TW1992_lib)\n",
    "Net4_TW1992.write_network()\n"
   ]
  },
  {
   "cell_type": "code",
   "execution_count": null,
   "metadata": {},
   "outputs": [],
   "source": []
  }
 ],
 "metadata": {
  "kernelspec": {
   "display_name": "Python 3",
   "language": "python",
   "name": "python3"
  },
  "language_info": {
   "codemirror_mode": {
    "name": "ipython",
    "version": 3
   },
   "file_extension": ".py",
   "mimetype": "text/x-python",
   "name": "python",
   "nbconvert_exporter": "python",
   "pygments_lexer": "ipython3",
   "version": "3.8.0"
  }
 },
 "nbformat": 4,
 "nbformat_minor": 2
}
