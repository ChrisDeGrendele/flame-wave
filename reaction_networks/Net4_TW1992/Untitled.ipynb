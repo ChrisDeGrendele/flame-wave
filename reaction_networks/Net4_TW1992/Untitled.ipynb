{
 "cells": [
  {
   "cell_type": "code",
   "execution_count": 17,
   "metadata": {},
   "outputs": [],
   "source": [
    "%matplotlib inline\n",
    "import pynucastro as pyna\n",
    "import numpy as np"
   ]
  },
  {
   "cell_type": "code",
   "execution_count": null,
   "metadata": {},
   "outputs": [],
   "source": []
  },
  {
   "cell_type": "code",
   "execution_count": 18,
   "metadata": {},
   "outputs": [
    {
     "data": {
      "text/plain": [
       "3883.4778216250666"
      ]
     },
     "execution_count": 18,
     "metadata": {},
     "output_type": "execute_result"
    }
   ],
   "source": [
    "c13pg = pyna.Rate(\"c13-pg-n14-nacr\")\n",
    "c13pg.eval(1.e9)\n"
   ]
  },
  {
   "cell_type": "code",
   "execution_count": 19,
   "metadata": {},
   "outputs": [
    {
     "data": {
      "image/png": "[encoded data removed]",
      "text/plain": [
       "<Figure size 432x288 with 1 Axes>"
      ]
     },
     "metadata": {
      "needs_background": "light"
     },
     "output_type": "display_data"
    }
   ],
   "source": [
    "c13pg.plot()"
   ]
  },
  {
   "cell_type": "code",
   "execution_count": 20,
   "metadata": {},
   "outputs": [],
   "source": [
    "\n",
    "files = [\"c12-pg-n13-ls09\",\n",
    "         \"c13-pg-n14-nacr\",\n",
    "         \"n13--c13-wc12\",\n",
    "         \"n13-pg-o14-lg06\",\n",
    "         \"n14-pg-o15-im05\",\n",
    "         \"n15-pa-c12-nacr\",\n",
    "         \"o14--n14-wc12\",\n",
    "         \"o15--n15-wc12\"]\n",
    "rc = pyna.RateCollection(files)"
   ]
  },
  {
   "cell_type": "code",
   "execution_count": 21,
   "metadata": {},
   "outputs": [
    {
     "name": "stdout",
     "output_type": "stream",
     "text": [
      "c12 + p --> n13\n",
      "c13 + p --> n14\n",
      "n13 --> c13\n",
      "n13 + p --> o14\n",
      "n14 + p --> o15\n",
      "n15 + p --> he4 + c12\n",
      "o14 --> n14\n",
      "o15 --> n15\n",
      "\n"
     ]
    }
   ],
   "source": [
    "print(rc)\n"
   ]
  },
  {
   "cell_type": "code",
   "execution_count": 22,
   "metadata": {},
   "outputs": [
    {
     "data": {
      "image/png": "[encoded data removed]",
      "text/plain": [
       "<Figure size 576x432 with 1 Axes>"
      ]
     },
     "metadata": {
      "needs_background": "light"
     },
     "output_type": "display_data"
    }
   ],
   "source": [
    "rc.plot()\n"
   ]
  },
  {
   "cell_type": "code",
   "execution_count": 23,
   "metadata": {},
   "outputs": [],
   "source": [
    "pynet = pyna.PythonNetwork(files)\n"
   ]
  },
  {
   "cell_type": "code",
   "execution_count": 24,
   "metadata": {},
   "outputs": [],
   "source": [
    "comp = pyna.Composition(rc.get_nuclei())\n",
    "comp.set_solar_like()\n"
   ]
  },
  {
   "cell_type": "code",
   "execution_count": 25,
   "metadata": {},
   "outputs": [
    {
     "data": {
      "application/vnd.jupyter.widget-view+json": {
       "model_id": "51bc590254f14daba6bea3ead74ed61c",
       "version_major": 2,
       "version_minor": 0
      },
      "text/plain": [
       "interactive(children=(FloatSlider(value=4.0, description='logrho', max=6.0, min=2.0), FloatSlider(value=8.0, d…"
      ]
     },
     "metadata": {},
     "output_type": "display_data"
    }
   ],
   "source": [
    "re = pyna.Explorer(rc, comp)\n",
    "re.explore()\n"
   ]
  },
  {
   "cell_type": "code",
   "execution_count": 26,
   "metadata": {},
   "outputs": [
    {
     "name": "stdout",
     "output_type": "stream",
     "text": [
      "import numpy as np\n",
      "from pynucastro.rates import Tfactors\n",
      "import numba\n",
      "\n",
      "ip = 0\n",
      "ihe4 = 1\n",
      "ic12 = 2\n",
      "ic13 = 3\n",
      "in13 = 4\n",
      "in14 = 5\n",
      "in15 = 6\n",
      "io14 = 7\n",
      "io15 = 8\n",
      "nnuc = 9\n",
      "\n",
      "A = np.zeros((nnuc), dtype=np.int32)\n",
      "\n",
      "A[ip] = 1\n",
      "A[ihe4] = 4\n",
      "A[ic12] = 12\n",
      "A[ic13] = 13\n",
      "A[in13] = 13\n",
      "A[in14] = 14\n",
      "A[in15] = 15\n",
      "A[io14] = 14\n",
      "A[io15] = 15\n",
      "\n",
      "Z = np.zeros((nnuc), dtype=np.int32)\n",
      "\n",
      "Z[ip] = 1\n",
      "Z[ihe4] = 2\n",
      "Z[ic12] = 6\n",
      "Z[ic13] = 6\n",
      "Z[in13] = 7\n",
      "Z[in14] = 7\n",
      "Z[in15] = 7\n",
      "Z[io14] = 8\n",
      "Z[io15] = 8\n",
      "\n",
      "@numba.njit()\n",
      "def ye(Y):\n",
      "    return np.sum(Z * Y)/np.sum(A * Y)\n",
      "\n",
      "@numba.njit()\n",
      "def p_c12__n13(tf):\n",
      "    # c12 + p --> n13\n",
      "    rate = 0.0\n",
      "    \n",
      "    # ls09n\n",
      "    rate += np.exp(  17.1482 + -13.692*tf.T913i + -0.230881*tf.T913\n",
      "                  + 4.44362*tf.T9 + -3.15898*tf.T953 + -0.666667*tf.lnT9)\n",
      "    # ls09r\n",
      "    rate += np.exp(  17.5428 + -3.77849*tf.T9i + -5.10735*tf.T913i + -2.24111*tf.T913\n",
      "                  + 0.148883*tf.T9 + -1.5*tf.lnT9)\n",
      "    \n",
      "    return rate\n",
      "\n",
      "@numba.njit()\n",
      "def p_c13__n14(tf):\n",
      "    # c13 + p --> n14\n",
      "    rate = 0.0\n",
      "    \n",
      "    # nacrn\n",
      "    rate += np.exp(  18.5155 + -13.72*tf.T913i + -0.450018*tf.T913\n",
      "                  + 3.70823*tf.T9 + -1.70545*tf.T953 + -0.666667*tf.lnT9)\n",
      "    # nacrr\n",
      "    rate += np.exp(  13.9637 + -5.78147*tf.T9i + -0.196703*tf.T913\n",
      "                  + 0.142126*tf.T9 + -0.0238912*tf.T953 + -1.5*tf.lnT9)\n",
      "    # nacrr\n",
      "    rate += np.exp(  15.1825 + -13.5543*tf.T9i\n",
      "                  + -1.5*tf.lnT9)\n",
      "    \n",
      "    return rate\n",
      "\n",
      "@numba.njit()\n",
      "def n13__c13__weak__wc12(tf):\n",
      "    # n13 --> c13\n",
      "    rate = 0.0\n",
      "    \n",
      "    # wc12w\n",
      "    rate += np.exp(  -6.7601)\n",
      "    \n",
      "    return rate\n",
      "\n",
      "@numba.njit()\n",
      "def p_n13__o14(tf):\n",
      "    # n13 + p --> o14\n",
      "    rate = 0.0\n",
      "    \n",
      "    # lg06n\n",
      "    rate += np.exp(  18.1356 + -15.1676*tf.T913i + 0.0955166*tf.T913\n",
      "                  + 3.0659*tf.T9 + -0.507339*tf.T953 + -0.666667*tf.lnT9)\n",
      "    # lg06r\n",
      "    rate += np.exp(  10.9971 + -6.12602*tf.T9i + 1.57122*tf.T913i\n",
      "                  + -1.5*tf.lnT9)\n",
      "    \n",
      "    return rate\n",
      "\n",
      "@numba.njit()\n",
      "def p_n14__o15(tf):\n",
      "    # n14 + p --> o15\n",
      "    rate = 0.0\n",
      "    \n",
      "    # im05n\n",
      "    rate += np.exp(  17.01 + -15.193*tf.T913i + -0.161954*tf.T913\n",
      "                  + -7.52123*tf.T9 + -0.987565*tf.T953 + -0.666667*tf.lnT9)\n",
      "    # im05r\n",
      "    rate += np.exp(  6.73578 + -4.891*tf.T9i\n",
      "                  + 0.0682*tf.lnT9)\n",
      "    # im05r\n",
      "    rate += np.exp(  7.65444 + -2.998*tf.T9i\n",
      "                  + -1.5*tf.lnT9)\n",
      "    # im05n\n",
      "    rate += np.exp(  20.1169 + -15.193*tf.T913i + -4.63975*tf.T913\n",
      "                  + 9.73458*tf.T9 + -9.55051*tf.T953 + 0.333333*tf.lnT9)\n",
      "    \n",
      "    return rate\n",
      "\n",
      "@numba.njit()\n",
      "def p_n15__he4_c12(tf):\n",
      "    # n15 + p --> he4 + c12\n",
      "    rate = 0.0\n",
      "    \n",
      "    # nacrn\n",
      "    rate += np.exp(  27.4764 + -15.253*tf.T913i + 1.59318*tf.T913\n",
      "                  + 2.4479*tf.T9 + -2.19708*tf.T953 + -0.666667*tf.lnT9)\n",
      "    # nacrr\n",
      "    rate += np.exp(  -6.57522 + -1.1638*tf.T9i + 22.7105*tf.T913\n",
      "                  + -2.90707*tf.T9 + 0.205754*tf.T953 + -1.5*tf.lnT9)\n",
      "    # nacrr\n",
      "    rate += np.exp(  20.8972 + -7.406*tf.T9i\n",
      "                  + -1.5*tf.lnT9)\n",
      "    # nacrr\n",
      "    rate += np.exp(  -4.87347 + -2.02117*tf.T9i + 30.8497*tf.T913\n",
      "                  + -8.50433*tf.T9 + -1.54426*tf.T953 + -1.5*tf.lnT9)\n",
      "    \n",
      "    return rate\n",
      "\n",
      "@numba.njit()\n",
      "def o14__n14__weak__wc12(tf):\n",
      "    # o14 --> n14\n",
      "    rate = 0.0\n",
      "    \n",
      "    # wc12w\n",
      "    rate += np.exp(  -4.62354)\n",
      "    \n",
      "    return rate\n",
      "\n",
      "@numba.njit()\n",
      "def o15__n15__weak__wc12(tf):\n",
      "    # o15 --> n15\n",
      "    rate = 0.0\n",
      "    \n",
      "    # wc12w\n",
      "    rate += np.exp(  -5.17053)\n",
      "    \n",
      "    return rate\n",
      "\n",
      "def rhs(t, Y, rho, T):\n",
      "    return rhs_eq(t, Y, rho, T)\n",
      "\n",
      "@numba.njit()\n",
      "def rhs_eq(t, Y, rho, T):\n",
      "\n",
      "    ip = 0\n",
      "    ihe4 = 1\n",
      "    ic12 = 2\n",
      "    ic13 = 3\n",
      "    in13 = 4\n",
      "    in14 = 5\n",
      "    in15 = 6\n",
      "    io14 = 7\n",
      "    io15 = 8\n",
      "    nnuc = 9\n",
      "\n",
      "    tf = Tfactors(T)\n",
      "\n",
      "    lambda_p_c12__n13 = p_c12__n13(tf)\n",
      "    lambda_p_c13__n14 = p_c13__n14(tf)\n",
      "    lambda_n13__c13__weak__wc12 = n13__c13__weak__wc12(tf)\n",
      "    lambda_p_n13__o14 = p_n13__o14(tf)\n",
      "    lambda_p_n14__o15 = p_n14__o15(tf)\n",
      "    lambda_p_n15__he4_c12 = p_n15__he4_c12(tf)\n",
      "    lambda_o14__n14__weak__wc12 = o14__n14__weak__wc12(tf)\n",
      "    lambda_o15__n15__weak__wc12 = o15__n15__weak__wc12(tf)\n",
      "\n",
      "    dYdt = np.zeros((nnuc), dtype=np.float64)\n",
      "\n",
      "    dYdt[ip] = (\n",
      "       -rho*Y[ip]*Y[ic12]*lambda_p_c12__n13\n",
      "       -rho*Y[ip]*Y[ic13]*lambda_p_c13__n14\n",
      "       -rho*Y[ip]*Y[in13]*lambda_p_n13__o14\n",
      "       -rho*Y[ip]*Y[in14]*lambda_p_n14__o15\n",
      "       -rho*Y[ip]*Y[in15]*lambda_p_n15__he4_c12\n",
      "       )\n",
      "\n",
      "    dYdt[ihe4] = (\n",
      "       +rho*Y[ip]*Y[in15]*lambda_p_n15__he4_c12\n",
      "       )\n",
      "\n",
      "    dYdt[ic12] = (\n",
      "       -rho*Y[ip]*Y[ic12]*lambda_p_c12__n13\n",
      "       +rho*Y[ip]*Y[in15]*lambda_p_n15__he4_c12\n",
      "       )\n",
      "\n",
      "    dYdt[ic13] = (\n",
      "       -rho*Y[ip]*Y[ic13]*lambda_p_c13__n14\n",
      "       +Y[in13]*lambda_n13__c13__weak__wc12\n",
      "       )\n",
      "\n",
      "    dYdt[in13] = (\n",
      "       -Y[in13]*lambda_n13__c13__weak__wc12\n",
      "       -rho*Y[ip]*Y[in13]*lambda_p_n13__o14\n",
      "       +rho*Y[ip]*Y[ic12]*lambda_p_c12__n13\n",
      "       )\n",
      "\n",
      "    dYdt[in14] = (\n",
      "       -rho*Y[ip]*Y[in14]*lambda_p_n14__o15\n",
      "       +rho*Y[ip]*Y[ic13]*lambda_p_c13__n14\n",
      "       +Y[io14]*lambda_o14__n14__weak__wc12\n",
      "       )\n",
      "\n",
      "    dYdt[in15] = (\n",
      "       -rho*Y[ip]*Y[in15]*lambda_p_n15__he4_c12\n",
      "       +Y[io15]*lambda_o15__n15__weak__wc12\n",
      "       )\n",
      "\n",
      "    dYdt[io14] = (\n",
      "       -Y[io14]*lambda_o14__n14__weak__wc12\n",
      "       +rho*Y[ip]*Y[in13]*lambda_p_n13__o14\n",
      "       )\n",
      "\n",
      "    dYdt[io15] = (\n",
      "       -Y[io15]*lambda_o15__n15__weak__wc12\n",
      "       +rho*Y[ip]*Y[in14]*lambda_p_n14__o15\n",
      "       )\n",
      "\n",
      "    return dYdt\n"
     ]
    }
   ],
   "source": [
    "pynet.write_network()\n"
   ]
  },
  {
   "cell_type": "code",
   "execution_count": 27,
   "metadata": {},
   "outputs": [
    {
     "name": "stdout",
     "output_type": "stream",
     "text": [
      "c12 + c12 --> he4 + ne20\n",
      "c12 + c12 --> n + mg23\n",
      "c12 + c12 --> p + na23\n",
      "c12 + he4 --> o16\n",
      "n --> p\n",
      "na23 --> ne23\n",
      "ne23 --> na23\n",
      "\n"
     ]
    }
   ],
   "source": [
    "from pynucastro.networks import StarKillerNetwork\n",
    "\n",
    "files = [\"c12-c12a-ne20-cf88\",\n",
    "         \"c12-c12n-mg23-cf88\",\n",
    "         \"c12-c12p-na23-cf88\",\n",
    "         \"c12-ag-o16-nac2\",\n",
    "         \"na23--ne23-toki\",\n",
    "         \"ne23--na23-toki\",\n",
    "         \"n--p-wc12\"]\n",
    "\n",
    "#urca_net = StarKillerNetwork(files)\n",
    "#urca_net.write_network()\n",
    "\n",
    "rc = pyna.RateCollection(files)\n",
    "print(rc)\n"
   ]
  },
  {
   "cell_type": "markdown",
   "metadata": {},
   "source": [
    "http://articles.adsabs.harvard.edu/pdf/1992ApJ...396..649T\n",
    "Table 1 Net 5 N = 130\n",
    "\n",
    "**There is a typo in the paper. This is 131 N.**"
   ]
  },
  {
   "cell_type": "code",
   "execution_count": 28,
   "metadata": {},
   "outputs": [],
   "source": [
    "Nuclei = { \n",
    "    \"H\" : [1,3],\n",
    "    \"He\" : [3,4],\n",
    "    \"C\" :  [12,14],\n",
    "    \"N\" :  [13,15],\n",
    "    \"O\" :  [16, 19],\n",
    "    \"F\" :  [18, 21], \n",
    "    \"Ne\" : [19,24],\n",
    "    \"Na\" : [20, 24],\n",
    "    \"Mg\" : [22,27],\n",
    "    \"Al\" : [25, 29],\n",
    "    \"Si\" : [27, 32],\n",
    "    \"P\"  : [29, 33],\n",
    "    \"S\"  : [30, 35],\n",
    "    \"Cl\" : [33, 37], \n",
    "    \"Ar\" : [35, 39],\n",
    "    \"K\"  : [37, 42],\n",
    "    \"Ca\" : [39, 44],\n",
    "    \"Sc\" : [42, 46], \n",
    "    \"Ti\" : [43, 49],\n",
    "    \"V\"  : [46, 51], \n",
    "    \"Cr\" : [47, 52],\n",
    "    \"Mn\" : [49, 55],\n",
    "    \"Fe\" : [51, 56],\n",
    "    \"Co\" : [53, 58],\n",
    "    \"Ni\" : [54, 60]    \n",
    "}\n",
    "All_Nuclei = []\n",
    "for Nuc, Num in Nuclei.items():\n",
    "    for i in range(Num[0], Num[1]+1):\n",
    "        All_Nuclei.append(Nuc + str(i))\n",
    "assert len(All_Nuclei) == 130\n",
    "All_Nuclei.append(\"n\") #neutron"
   ]
  },
  {
   "cell_type": "code",
   "execution_count": 29,
   "metadata": {},
   "outputs": [
    {
     "data": {
      "text/plain": [
       "['H1',\n",
       " 'H2',\n",
       " 'H3',\n",
       " 'He3',\n",
       " 'He4',\n",
       " 'C12',\n",
       " 'C13',\n",
       " 'C14',\n",
       " 'N13',\n",
       " 'N14',\n",
       " 'N15',\n",
       " 'O16',\n",
       " 'O17',\n",
       " 'O18',\n",
       " 'O19',\n",
       " 'F18',\n",
       " 'F19',\n",
       " 'F20',\n",
       " 'F21',\n",
       " 'Ne19',\n",
       " 'Ne20',\n",
       " 'Ne21',\n",
       " 'Ne22',\n",
       " 'Ne23',\n",
       " 'Ne24',\n",
       " 'Na20',\n",
       " 'Na21',\n",
       " 'Na22',\n",
       " 'Na23',\n",
       " 'Na24',\n",
       " 'Mg22',\n",
       " 'Mg23',\n",
       " 'Mg24',\n",
       " 'Mg25',\n",
       " 'Mg26',\n",
       " 'Mg27',\n",
       " 'Al25',\n",
       " 'Al26',\n",
       " 'Al27',\n",
       " 'Al28',\n",
       " 'Al29',\n",
       " 'Si27',\n",
       " 'Si28',\n",
       " 'Si29',\n",
       " 'Si30',\n",
       " 'Si31',\n",
       " 'Si32',\n",
       " 'P29',\n",
       " 'P30',\n",
       " 'P31',\n",
       " 'P32',\n",
       " 'P33',\n",
       " 'S30',\n",
       " 'S31',\n",
       " 'S32',\n",
       " 'S33',\n",
       " 'S34',\n",
       " 'S35',\n",
       " 'Cl33',\n",
       " 'Cl34',\n",
       " 'Cl35',\n",
       " 'Cl36',\n",
       " 'Cl37',\n",
       " 'Ar35',\n",
       " 'Ar36',\n",
       " 'Ar37',\n",
       " 'Ar38',\n",
       " 'Ar39',\n",
       " 'K37',\n",
       " 'K38',\n",
       " 'K39',\n",
       " 'K40',\n",
       " 'K41',\n",
       " 'K42',\n",
       " 'Ca39',\n",
       " 'Ca40',\n",
       " 'Ca41',\n",
       " 'Ca42',\n",
       " 'Ca43',\n",
       " 'Ca44',\n",
       " 'Sc42',\n",
       " 'Sc43',\n",
       " 'Sc44',\n",
       " 'Sc45',\n",
       " 'Sc46',\n",
       " 'Ti43',\n",
       " 'Ti44',\n",
       " 'Ti45',\n",
       " 'Ti46',\n",
       " 'Ti47',\n",
       " 'Ti48',\n",
       " 'Ti49',\n",
       " 'V46',\n",
       " 'V47',\n",
       " 'V48',\n",
       " 'V49',\n",
       " 'V50',\n",
       " 'V51',\n",
       " 'Cr47',\n",
       " 'Cr48',\n",
       " 'Cr49',\n",
       " 'Cr50',\n",
       " 'Cr51',\n",
       " 'Cr52',\n",
       " 'Mn49',\n",
       " 'Mn50',\n",
       " 'Mn51',\n",
       " 'Mn52',\n",
       " 'Mn53',\n",
       " 'Mn54',\n",
       " 'Mn55',\n",
       " 'Fe51',\n",
       " 'Fe52',\n",
       " 'Fe53',\n",
       " 'Fe54',\n",
       " 'Fe55',\n",
       " 'Fe56',\n",
       " 'Co53',\n",
       " 'Co54',\n",
       " 'Co55',\n",
       " 'Co56',\n",
       " 'Co57',\n",
       " 'Co58',\n",
       " 'Ni54',\n",
       " 'Ni55',\n",
       " 'Ni56',\n",
       " 'Ni57',\n",
       " 'Ni58',\n",
       " 'Ni59',\n",
       " 'Ni60',\n",
       " 'n']"
      ]
     },
     "execution_count": 29,
     "metadata": {},
     "output_type": "execute_result"
    }
   ],
   "source": [
    "All_Nuclei"
   ]
  },
  {
   "cell_type": "code",
   "execution_count": 30,
   "metadata": {},
   "outputs": [],
   "source": [
    "library_file = '../results07070315'\n",
    "mylibrary = pyna.rates.Library(library_file)\n",
    "escn_tabular = [\"f20--o20-toki\",\"ne20--f20-toki\",\"o20--f20-toki\",\"f20--ne20-toki\"]                "
   ]
  },
  {
   "cell_type": "code",
   "execution_count": 31,
   "metadata": {},
   "outputs": [],
   "source": [
    "Net5_TW1992_lib = mylibrary.linking_nuclei(All_Nuclei, with_reverse=False)"
   ]
  },
  {
   "cell_type": "code",
   "execution_count": 32,
   "metadata": {},
   "outputs": [],
   "source": [
    "from pynucastro import Nucleus\n",
    "new_rates = []\n",
    "#screens out duplicate rates that we include in the escn_tabular.\n",
    "for rate in Net5_TW1992_lib.get_rates():\n",
    "    if rate.reactants == [Nucleus(\"f20\")] and rate.products == [Nucleus(\"o20\")]:\n",
    "        continue\n",
    "    elif rate.reactants == [Nucleus(\"ne20\")] and rate.products == [Nucleus(\"f20\")]:\n",
    "        continue\n",
    "    elif rate.reactants == [Nucleus(\"o20\")] and rate.products == [Nucleus(\"f20\")]:\n",
    "        continue\n",
    "    elif rate.reactants == [Nucleus(\"f20\")] and rate.products == [Nucleus(\"ne20\")]:\n",
    "        continue\n",
    "    else:\n",
    "        new_rates.append(rate)"
   ]
  },
  {
   "cell_type": "code",
   "execution_count": 33,
   "metadata": {},
   "outputs": [
    {
     "data": {
      "image/png": "[encoded data removed]",
      "text/plain": [
       "<Figure size 576x432 with 1 Axes>"
      ]
     },
     "metadata": {
      "needs_background": "light"
     },
     "output_type": "display_data"
    }
   ],
   "source": [
    "Net5_TW1992 = pyna.networks.StarKillerNetwork(rates = new_rates, rate_files=escn_tabular)\n",
    "Net5_TW1992.plot()"
   ]
  },
  {
   "cell_type": "code",
   "execution_count": 34,
   "metadata": {},
   "outputs": [
    {
     "name": "stdout",
     "output_type": "stream",
     "text": [
      "tfile /Library/Frameworks/Python.framework/Versions/3.8/lib/python3.8/site-packages/pynucastro/templates/starkiller-microphysics/xin.pynucastro.64.template\n",
      "tfile /Library/Frameworks/Python.framework/Versions/3.8/lib/python3.8/site-packages/pynucastro/templates/starkiller-microphysics/inputs.burn_cell.VODE.template\n",
      "tfile /Library/Frameworks/Python.framework/Versions/3.8/lib/python3.8/site-packages/pynucastro/templates/starkiller-microphysics/NETWORK_REQUIRES.template\n",
      "tfile /Library/Frameworks/Python.framework/Versions/3.8/lib/python3.8/site-packages/pynucastro/templates/starkiller-microphysics/reaclib_rates.F90.template\n",
      "tfile /Library/Frameworks/Python.framework/Versions/3.8/lib/python3.8/site-packages/pynucastro/templates/starkiller-microphysics/xin.pynucastro.256.template\n",
      "tfile /Library/Frameworks/Python.framework/Versions/3.8/lib/python3.8/site-packages/pynucastro/templates/starkiller-microphysics/actual_burner.F90.template\n",
      "tfile /Library/Frameworks/Python.framework/Versions/3.8/lib/python3.8/site-packages/pynucastro/templates/starkiller-microphysics/actual_network.F90.template\n",
      "tfile /Library/Frameworks/Python.framework/Versions/3.8/lib/python3.8/site-packages/pynucastro/templates/starkiller-microphysics/table_rates.F90.template\n",
      "tfile /Library/Frameworks/Python.framework/Versions/3.8/lib/python3.8/site-packages/pynucastro/templates/starkiller-microphysics/xin.pynucastro.128.template\n",
      "tfile /Library/Frameworks/Python.framework/Versions/3.8/lib/python3.8/site-packages/pynucastro/templates/starkiller-microphysics/_parameters.template\n",
      "tfile /Library/Frameworks/Python.framework/Versions/3.8/lib/python3.8/site-packages/pynucastro/templates/starkiller-microphysics/reaclib_rate_metadata.dat.template\n",
      "tfile /Library/Frameworks/Python.framework/Versions/3.8/lib/python3.8/site-packages/pynucastro/templates/starkiller-microphysics/Make.package.template\n",
      "tfile /Library/Frameworks/Python.framework/Versions/3.8/lib/python3.8/site-packages/pynucastro/templates/starkiller-microphysics/xin.pynucastro.32.template\n",
      "tfile /Library/Frameworks/Python.framework/Versions/3.8/lib/python3.8/site-packages/pynucastro/templates/starkiller-microphysics/physical_constants.f90.template\n",
      "tfile /Library/Frameworks/Python.framework/Versions/3.8/lib/python3.8/site-packages/pynucastro/templates/starkiller-microphysics/xin.pynucastro.16.template\n",
      "tfile /Library/Frameworks/Python.framework/Versions/3.8/lib/python3.8/site-packages/pynucastro/templates/starkiller-microphysics/actual_rhs.F90.template\n"
     ]
    }
   ],
   "source": [
    "Net5_TW1992.write_network()"
   ]
  },
  {
   "cell_type": "code",
   "execution_count": null,
   "metadata": {},
   "outputs": [],
   "source": [
    "Nuclei = { \n",
    "    \"H\" : [1,3],\n",
    "    \"He\" : [3,4],\n",
    "    \"C\" : [12,12],\n",
    "    \"N\" : [14,15],\n",
    "    \"O\" : [16, 18],\n",
    "    \"F\" : [19, 20], \n",
    "    \"Ne\" : [19,21],\n",
    "    \"Na\" : [22, 24],\n",
    "    \"Mg\" : [23, 26],\n",
    "    \"Al\" : [26, 28],\n",
    "    \"Si\" : [27, 30],\n",
    "    \"P\"  : [30, 32],\n",
    "    \"S\"  : [31, 34],\n",
    "    \"Cl\" : [35, 37], \n",
    "    \"Ar\" : [36, 38],\n",
    "    \"K\"  : [39, 41],\n",
    "    \"Ca\" : [40, 44],\n",
    "    \"Sc\" : [43, 45], \n",
    "    \"Ti\" : [44, 48],\n",
    "    \"V\"  : [47, 49], \n",
    "    \"Cr\" : [48, 52],\n",
    "    \"Mn\" : [51, 54],\n",
    "    \"Fe\" : [52, 56],\n",
    "    \"Co\" : [55, 57],\n",
    "    \"Ni\" : [56, 58]    \n",
    "}\n",
    "All_Nuclei = []\n",
    "for Nuc, Num in Nuclei.items():\n",
    "    for i in range(Num[0], Num[1]+1):\n",
    "        All_Nuclei.append(Nuc + str(i))\n",
    "All_Nuclei.append(\"n\") #neutron\n",
    "assert len(All_Nuclei) == 83\n",
    "Net4_TW1992_lib = mylibrary.linking_nuclei(All_Nuclei, with_reverse=False)\n",
    "Net4_TW1992 = pyna.networks.StarKillerNetwork(libraries=Net4_TW1992_lib)\n",
    "Net4_TW1992.write_network()\n"
   ]
  },
  {
   "cell_type": "code",
   "execution_count": null,
   "metadata": {},
   "outputs": [],
   "source": []
  },
  {
   "cell_type": "code",
   "execution_count": null,
   "metadata": {},
   "outputs": [],
   "source": []
  }
 ],
 "metadata": {
  "kernelspec": {
   "display_name": "Python 3",
   "language": "python",
   "name": "python3"
  },
  "language_info": {
   "codemirror_mode": {
    "name": "ipython",
    "version": 3
   },
   "file_extension": ".py",
   "mimetype": "text/x-python",
   "name": "python",
   "nbconvert_exporter": "python",
   "pygments_lexer": "ipython3",
   "version": "3.8.0"
  }
 },
 "nbformat": 4,
 "nbformat_minor": 2
}
